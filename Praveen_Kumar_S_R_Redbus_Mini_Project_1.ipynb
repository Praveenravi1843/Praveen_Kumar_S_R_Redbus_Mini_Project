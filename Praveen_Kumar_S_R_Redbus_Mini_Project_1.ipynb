{
 "cells": [
  {
   "cell_type": "code",
   "execution_count": null,
   "metadata": {},
   "outputs": [],
   "source": [
    "from selenium import webdriver\n",
    "from selenium.webdriver.common.by import By\n",
    "import time\n",
    "import pandas as pd\n",
    "# Initialize WebDriver_1\n",
    "driver = webdriver.Chrome()\n",
    "driver.get(\"https://www.redbus.in/\")\n",
    "driver.find_element(By.ID, 'src').send_keys('Chennai')\n",
    "driver.find_element(By.ID, 'dest').send_keys('Bangalore')\n",
    "# Wait for page to load\n",
    "time.sleep(5)\n",
    "# Example: Fill search fields and submit\n",
    "time.sleep(10)  # Wait for results to load\n",
    "# Scraping bus details\n",
    "buses = []\n",
    "bus_elements = driver.find_elements(By.CLASS_NAME, 'bus-item')\n",
    "# Convert to DataFrame\n",
    "df_buses = pd.DataFrame(buses)\n",
    "driver.quit()\n",
    "import streamlit as st\n",
    "import pandas as pd\n",
    "# Streamlit App Layout\n",
    "st.title(\"Redbus Bus Search\")\n",
    "# Filters\n",
    "min_price = st.sidebar.number_input(\"Minimum Price\", min_value=0)\n",
    "max_price = st.sidebar.number_input(\"Maximum Price\", max_value=1000)\n",
    "\n",
    "from selenium import webdriver\n",
    "from selenium.webdriver.common.by import By\n",
    "import time\n",
    "import pandas as pd# Initialize WebDriver_2\n",
    "driver = webdriver.Chrome()\n",
    "driver.get(\"https://www.redbus.in/search?fromCityName=CMBT,%20Chennai,%20Chennai&fromCityId=66065&srcCountry=IND&toCityName=Marathahalli,%20Bangalore&toCityId=66316&destCountry=IND&onward=6-Oct-2024&opId=0&busType=Any\")\n",
    "# Wait for page to load\n",
    "time.sleep(5)\n",
    "# Example: Fill search fields and submit\n",
    "time.sleep(10)  # Wait for results to load\n",
    "# Scraping bus details\n",
    "buses = []\n",
    "bus_elements = driver.find_elements(By.CLASS_NAME, 'bus-item')\n",
    "# Convert to DataFrame\n",
    "df_buses = pd.DataFrame(buses)\n",
    "driver.quit()\n",
    "import streamlit as st\n",
    "import pandas as pd\n",
    "# Streamlit App Layout\n",
    "st.title(\"Redbus Bus Search\")\n",
    "# Filters\n",
    "min_price = st.sidebar.number_input(\"Minimum Price\", min_value=0)\n",
    "max_price = st.sidebar.number_input(\"Maximum Price\", max_value=1500)"
   ]
  }
 ],
 "metadata": {
  "kernelspec": {
   "display_name": ".venv",
   "language": "python",
   "name": "python3"
  },
  "language_info": {
   "codemirror_mode": {
    "name": "ipython",
    "version": 3
   },
   "file_extension": ".py",
   "mimetype": "text/x-python",
   "name": "python",
   "nbconvert_exporter": "python",
   "pygments_lexer": "ipython3",
   "version": "3.10.11"
  }
 },
 "nbformat": 4,
 "nbformat_minor": 2
}
